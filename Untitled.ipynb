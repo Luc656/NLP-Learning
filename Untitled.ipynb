{
 "cells": [
  {
   "cell_type": "code",
   "execution_count": 13,
   "id": "d901bbeb-3358-48ab-8f37-600ff57cb511",
   "metadata": {},
   "outputs": [],
   "source": [
    "import pandas as pd\n",
    "import numpy as np\n",
    "import re\n",
    "import string\n",
    "import nltk\n",
    "from nltk.corpus import stopwords\n",
    "from sklearn.feature_extraction.text import TfidfVectorizer\n",
    "from sklearn.model_selection import train_test_split,  StratifiedKFold, cross_val_score\n",
    "from sklearn.naive_bayes import MultinomialNB\n",
    "from sklearn.pipeline import Pipeline\n",
    "from sklearn.metrics import accuracy_score, classification_report, confusion_matrix, ConfusionMatrixDisplay, roc_curve, auc\n",
    "import matplotlib.pyplot as plt\n",
    "from nltk.stem import WordNetLemmatizer\n",
    "from nltk.tokenize import word_tokenize\n",
    "from nltk.corpus import stopwords"
   ]
  },
  {
   "cell_type": "code",
   "execution_count": 2,
   "id": "370fe3b1-6969-4194-8d6f-df84ca3e6472",
   "metadata": {},
   "outputs": [],
   "source": [
    "from analyser import Analyser"
   ]
  },
  {
   "cell_type": "markdown",
   "id": "af5a317f-d9a4-4232-972c-25233ec12172",
   "metadata": {},
   "source": [
    "# Load and transform data"
   ]
  },
  {
   "cell_type": "code",
   "execution_count": 4,
   "id": "f484f2d7-0e97-4d75-8300-2e51a970e933",
   "metadata": {},
   "outputs": [],
   "source": [
    "liar_analyser = Analyser()"
   ]
  },
  {
   "cell_type": "code",
   "execution_count": 5,
   "id": "b3235ad8-8d62-4527-a3d2-017596f3dce4",
   "metadata": {},
   "outputs": [
    {
     "name": "stderr",
     "output_type": "stream",
     "text": [
      "2025-03-12 17:16:11,884 - analyser - INFO - Training data shape: (11524, 2)\n",
      "2025-03-12 17:16:11,886 - analyser - INFO - Test data shape: (1267, 2)\n",
      "2025-03-12 17:16:11,893 - analyser - INFO - Label distribution in training: label\n",
      "1    0.557098\n",
      "0    0.442902\n",
      "Name: proportion, dtype: float64\n"
     ]
    },
    {
     "data": {
      "text/plain": [
       "(                                               statement  label\n",
       " 0      says the annies list political group supports ...      0\n",
       " 1      when did the decline of coal start it started ...      1\n",
       " 2      hillary clinton agrees with john mccain by vot...      1\n",
       " 3      health care reform legislation is likely to ma...      0\n",
       " 4      the economic turnaround started at the end of ...      1\n",
       " ...                                                  ...    ...\n",
       " 11519  for the first time in more than a decade impor...      1\n",
       " 11520  says donald trump has bankrupted his companies...      1\n",
       " 11521  john mccain and george bush have absolutely no...      1\n",
       " 11522  a new poll shows 62 percent support the presid...      0\n",
       " 11523  no one claims the report vindicating new jerse...      0\n",
       " \n",
       " [11524 rows x 2 columns],\n",
       "                                               statement  label\n",
       " 0     building a wall on the u s mexico border will ...      1\n",
       " 1     wisconsin is on pace to double the number of l...      0\n",
       " 2     says john mccain has done nothing to help the ...      0\n",
       " 3     suzanne bonamici supports a plan that will cut...      1\n",
       " 4     when asked by a reporter whether hes at the ce...      0\n",
       " ...                                                 ...    ...\n",
       " 1262  says his budget provides the highest state fun...      1\n",
       " 1263                     ive been here almost every day      0\n",
       " 1264  in the early 1980s sen edward kennedy secretly...      0\n",
       " 1265  says an epa permit languished under strickland...      0\n",
       " 1266  says the governor is going around the state ta...      0\n",
       " \n",
       " [1267 rows x 2 columns])"
      ]
     },
     "execution_count": 5,
     "metadata": {},
     "output_type": "execute_result"
    }
   ],
   "source": [
    "liar_analyser.prep_liar_data('liar_dataset/train.tsv','liar_dataset/valid.tsv','liar_dataset/test.tsv')"
   ]
  },
  {
   "cell_type": "code",
   "execution_count": 6,
   "id": "14180c12-2441-4c9c-be6c-6d213c9782d8",
   "metadata": {},
   "outputs": [],
   "source": [
    "train,test = liar_analyser.train, liar_analyser.test"
   ]
  },
  {
   "cell_type": "markdown",
   "id": "8e021aca-3383-4b5a-b9b6-c64dee7d0337",
   "metadata": {},
   "source": [
    "# Test data transformations"
   ]
  },
  {
   "cell_type": "code",
   "execution_count": 9,
   "id": "fc5e76c4-6b94-457c-baec-27400163959b",
   "metadata": {},
   "outputs": [
    {
     "data": {
      "text/plain": [
       "11524"
      ]
     },
     "execution_count": 9,
     "metadata": {},
     "output_type": "execute_result"
    }
   ],
   "source": [
    "len(train)"
   ]
  },
  {
   "cell_type": "code",
   "execution_count": 8,
   "id": "c4e7d192-3e1b-4a63-9db8-1d0b41822635",
   "metadata": {},
   "outputs": [
    {
     "data": {
      "text/plain": [
       "1267"
      ]
     },
     "execution_count": 8,
     "metadata": {},
     "output_type": "execute_result"
    }
   ],
   "source": [
    "len(test)"
   ]
  },
  {
   "cell_type": "code",
   "execution_count": 10,
   "id": "726ebb9a-1804-4190-8e73-193438b088a2",
   "metadata": {},
   "outputs": [
    {
     "data": {
      "text/plain": [
       "statement    0\n",
       "label        0\n",
       "dtype: int64"
      ]
     },
     "execution_count": 10,
     "metadata": {},
     "output_type": "execute_result"
    }
   ],
   "source": [
    "train.isna().sum()"
   ]
  },
  {
   "cell_type": "code",
   "execution_count": 11,
   "id": "ac3d4b01-ebca-49ce-990c-bbf6bfa76113",
   "metadata": {},
   "outputs": [
    {
     "data": {
      "text/plain": [
       "statement    0\n",
       "label        0\n",
       "dtype: int64"
      ]
     },
     "execution_count": 11,
     "metadata": {},
     "output_type": "execute_result"
    }
   ],
   "source": [
    "test.isna().sum()"
   ]
  },
  {
   "cell_type": "code",
   "execution_count": 12,
   "id": "7f681d1a-c803-42fe-8364-1a8cdf49c032",
   "metadata": {},
   "outputs": [
    {
     "name": "stdout",
     "output_type": "stream",
     "text": [
      "label\n",
      "1    6420\n",
      "0    5104\n",
      "Name: count, dtype: int64\n",
      "label\n",
      "1    714\n",
      "0    553\n",
      "Name: count, dtype: int64\n"
     ]
    }
   ],
   "source": [
    "print(train['label'].value_counts())\n",
    "print(test['label'].value_counts())"
   ]
  },
  {
   "cell_type": "markdown",
   "id": "352b32cb-ce4a-4bf5-b3c2-49b621bcb652",
   "metadata": {},
   "source": [
    "# Lemmatisation"
   ]
  },
  {
   "cell_type": "code",
   "execution_count": 17,
   "id": "4d7d76b2-de01-4dac-9be2-81444919dd42",
   "metadata": {},
   "outputs": [],
   "source": [
    "lemmatiser = WordNetLemmatizer()\n",
    "stop_words = set(stopwords.words('english'))"
   ]
  },
  {
   "cell_type": "code",
   "execution_count": 18,
   "id": "c4a7b198-ccb0-4d9f-9196-5d024d3b231c",
   "metadata": {},
   "outputs": [],
   "source": [
    "def lemmatise(text):\n",
    "    tokens = word_tokenize(text.lower())\n",
    "    tokens = [lemmatiser.lemmatize(word) for word in tokens if word.isalnum() and word not in stop_words]\n",
    "    return \" \".join(tokens)"
   ]
  },
  {
   "cell_type": "code",
   "execution_count": 19,
   "id": "3dd54ffd-5a81-413f-9b85-4c7a54805ac9",
   "metadata": {},
   "outputs": [],
   "source": [
    "train['statement'] = train['statement'].apply(lemmatise)\n",
    "test['statement'] = test['statement'].apply(lemmatise)"
   ]
  },
  {
   "cell_type": "code",
   "execution_count": 20,
   "id": "48fdfb2f-fa77-4ff0-85e3-9845b24a199b",
   "metadata": {},
   "outputs": [
    {
     "data": {
      "text/html": [
       "<div>\n",
       "<style scoped>\n",
       "    .dataframe tbody tr th:only-of-type {\n",
       "        vertical-align: middle;\n",
       "    }\n",
       "\n",
       "    .dataframe tbody tr th {\n",
       "        vertical-align: top;\n",
       "    }\n",
       "\n",
       "    .dataframe thead th {\n",
       "        text-align: right;\n",
       "    }\n",
       "</style>\n",
       "<table border=\"1\" class=\"dataframe\">\n",
       "  <thead>\n",
       "    <tr style=\"text-align: right;\">\n",
       "      <th></th>\n",
       "      <th>statement</th>\n",
       "      <th>label</th>\n",
       "    </tr>\n",
       "  </thead>\n",
       "  <tbody>\n",
       "    <tr>\n",
       "      <th>0</th>\n",
       "      <td>say annies list political group support third ...</td>\n",
       "      <td>0</td>\n",
       "    </tr>\n",
       "    <tr>\n",
       "      <th>1</th>\n",
       "      <td>decline coal start started natural gas took st...</td>\n",
       "      <td>1</td>\n",
       "    </tr>\n",
       "    <tr>\n",
       "      <th>2</th>\n",
       "      <td>hillary clinton agrees john mccain voting give...</td>\n",
       "      <td>1</td>\n",
       "    </tr>\n",
       "    <tr>\n",
       "      <th>3</th>\n",
       "      <td>health care reform legislation likely mandate ...</td>\n",
       "      <td>0</td>\n",
       "    </tr>\n",
       "    <tr>\n",
       "      <th>4</th>\n",
       "      <td>economic turnaround started end term</td>\n",
       "      <td>1</td>\n",
       "    </tr>\n",
       "  </tbody>\n",
       "</table>\n",
       "</div>"
      ],
      "text/plain": [
       "                                           statement  label\n",
       "0  say annies list political group support third ...      0\n",
       "1  decline coal start started natural gas took st...      1\n",
       "2  hillary clinton agrees john mccain voting give...      1\n",
       "3  health care reform legislation likely mandate ...      0\n",
       "4               economic turnaround started end term      1"
      ]
     },
     "execution_count": 20,
     "metadata": {},
     "output_type": "execute_result"
    }
   ],
   "source": [
    "train.head()"
   ]
  },
  {
   "cell_type": "markdown",
   "id": "1d40aadf-f037-4bd7-82d8-3819af0b8d12",
   "metadata": {},
   "source": [
    "# Test train split & Crossvalidation"
   ]
  },
  {
   "cell_type": "code",
   "execution_count": null,
   "id": "3de19ca2-b398-4bed-923c-0f4faff4fd54",
   "metadata": {},
   "outputs": [],
   "source": []
  }
 ],
 "metadata": {
  "kernelspec": {
   "display_name": "Python 3 (ipykernel)",
   "language": "python",
   "name": "python3"
  },
  "language_info": {
   "codemirror_mode": {
    "name": "ipython",
    "version": 3
   },
   "file_extension": ".py",
   "mimetype": "text/x-python",
   "name": "python",
   "nbconvert_exporter": "python",
   "pygments_lexer": "ipython3",
   "version": "3.12.4"
  }
 },
 "nbformat": 4,
 "nbformat_minor": 5
}
